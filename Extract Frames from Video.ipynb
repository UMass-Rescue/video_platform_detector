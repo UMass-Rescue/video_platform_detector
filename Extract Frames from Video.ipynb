{
 "cells": [
  {
   "cell_type": "code",
   "execution_count": 1,
   "metadata": {
    "ExecuteTime": {
     "end_time": "2020-03-30T03:15:57.880380Z",
     "start_time": "2020-03-30T03:15:57.792222Z"
    }
   },
   "outputs": [],
   "source": [
    "import cv2\n",
    "from pathlib import Path"
   ]
  },
  {
   "cell_type": "code",
   "execution_count": 2,
   "metadata": {
    "ExecuteTime": {
     "end_time": "2020-03-30T00:39:00.057466Z",
     "start_time": "2020-03-30T00:39:00.039150Z"
    }
   },
   "outputs": [
    {
     "data": {
      "text/plain": [
       "[PosixPath('data/tik_tok/videos/2cfd4f1f7d35f9ad0f591dc002da13e9.mp4'),\n",
       " PosixPath('data/tik_tok/videos/4faa14a3cbd1f08c2913f0c05fe7a436.mp4'),\n",
       " PosixPath('data/tik_tok/videos/de9fbbe514055a82a3d13d5a21187eb0.mp4'),\n",
       " PosixPath('data/tik_tok/videos/6c8e3031a9106bba33247513aa481132.mp4'),\n",
       " PosixPath('data/tik_tok/videos/907502c6dc62fe3be49865fabba956b2.mp4'),\n",
       " PosixPath('data/tik_tok/videos/39acdf30e50bd624b22c7002487ca336.mp4'),\n",
       " PosixPath('data/tik_tok/videos/10ff9533308b2c4c2081d8270779edfb.mp4'),\n",
       " PosixPath('data/tik_tok/videos/ee46d5b0dcd78dd252514d283c4a5c05.mp4'),\n",
       " PosixPath('data/tik_tok/videos/6e8ec1d3421bb8c501330b0afa352f12.mp4'),\n",
       " PosixPath('data/tik_tok/videos/585ad097e0cea5ed44fcb535441d50b8.mp4'),\n",
       " PosixPath('data/tik_tok/videos/4d05eb6fbc6944aa4b09c9db077591b2.mp4'),\n",
       " PosixPath('data/tik_tok/videos/8ee98a68d1b9d5055bc583db2b110a81.mp4'),\n",
       " PosixPath('data/tik_tok/videos/deae48745b921350ffa88d217f0eb6c7.mp4'),\n",
       " PosixPath('data/tik_tok/videos/1959493cbde365989818a766aefe7a20.mp4'),\n",
       " PosixPath('data/tik_tok/videos/61cc6d8239f41c36f9393f41233f2db8.mp4'),\n",
       " PosixPath('data/tik_tok/videos/ce1d1937b2bdc328945c84d59fda0e34.mp4'),\n",
       " PosixPath('data/tik_tok/videos/80cbb615cb2f5839a4bbb4b0abcae799.mp4'),\n",
       " PosixPath('data/tik_tok/videos/a4ce5efbea19c6ad30c6c6f52ded36ea.mp4'),\n",
       " PosixPath('data/tik_tok/videos/26267084475ef55c4eef24132995e292.mp4'),\n",
       " PosixPath('data/tik_tok/videos/39cd521fe0a8b2945bb463224aabe621.mp4'),\n",
       " PosixPath('data/tik_tok/videos/b96f488eb81b7a33e5e901faff09bff6.mp4'),\n",
       " PosixPath('data/tik_tok/videos/8519ee0bf543b64096fcbcf9eb548d76.mp4'),\n",
       " PosixPath('data/tik_tok/videos/1e75b204e652d1be67788ae5633f770e.mp4'),\n",
       " PosixPath('data/tik_tok/videos/4f2d8fc4484c1e14f8753329e412b1bc.mp4'),\n",
       " PosixPath('data/tik_tok/videos/b412dee48f22605c5460d098800ddd90.mp4'),\n",
       " PosixPath('data/tik_tok/videos/760d45c4613335f7f354381c8e7815e7.mp4'),\n",
       " PosixPath('data/tik_tok/videos/d041b249864b3b660596e71f40f457c9.mp4'),\n",
       " PosixPath('data/tik_tok/videos/091a16970ac13290d6219240f5cf96a2.mp4'),\n",
       " PosixPath('data/tik_tok/videos/2d963b4cbabf97839022627f195e0b76.mp4'),\n",
       " PosixPath('data/tik_tok/videos/aaf8e63c6977736a31d7af017c5c29cd.mp4'),\n",
       " PosixPath('data/tik_tok/videos/45fe3097a7a47989c1f9285ec8e4b80a.mp4'),\n",
       " PosixPath('data/tik_tok/videos/d7d37ec0323466101e0f86e79322be4c.mp4')]"
      ]
     },
     "execution_count": 2,
     "metadata": {},
     "output_type": "execute_result"
    }
   ],
   "source": [
    "video_dir = Path('data/tik_tok/videos/')\n",
    "videos = [f for f in video_dir.glob('*')]\n",
    "videos"
   ]
  },
  {
   "cell_type": "code",
   "execution_count": 5,
   "metadata": {
    "ExecuteTime": {
     "end_time": "2020-03-30T00:39:08.641670Z",
     "start_time": "2020-03-30T00:39:08.638963Z"
    }
   },
   "outputs": [],
   "source": [
    "save_path = Path('data/tik_tok/images/all/')"
   ]
  },
  {
   "cell_type": "code",
   "execution_count": 2,
   "metadata": {
    "ExecuteTime": {
     "end_time": "2020-03-30T03:16:08.476818Z",
     "start_time": "2020-03-30T03:16:08.465734Z"
    }
   },
   "outputs": [],
   "source": [
    "def extract_frames_from_video(vid_path, save_path, FPS=30, prefix=None, img_fmt='jpg'):\n",
    "    vid_path = Path(vid_path) if type(vid_path) == str else vid_path\n",
    "    save_path = Path(save_path) if type(save_path) == str else save_path\n",
    "    prefix = vid_path.stem if prefix == None else prefix\n",
    "\n",
    "    if FPS > 1000:\n",
    "        raise ValueError('FPS is greater than 1000. Not supported.')\n",
    "\n",
    "    time_per_frame = 1000//FPS\n",
    "\n",
    "    cap = cv2.VideoCapture(str(vid_path))\n",
    "    count = 0\n",
    "    while True:\n",
    "        cap.set(cv2.CAP_PROP_POS_MSEC,(count*time_per_frame))\n",
    "        ret, frame = cap.read()\n",
    "        if ret == False:\n",
    "            break\n",
    "        cv2.imwrite(str(save_path / f'{prefix}_{count}.{img_fmt}'), frame)\n",
    "        count += 1"
   ]
  },
  {
   "cell_type": "code",
   "execution_count": 7,
   "metadata": {
    "ExecuteTime": {
     "end_time": "2020-03-30T00:41:26.482683Z",
     "start_time": "2020-03-30T00:39:18.124328Z"
    },
    "scrolled": true
   },
   "outputs": [
    {
     "data": {
      "text/plain": [
       "[None,\n",
       " None,\n",
       " None,\n",
       " None,\n",
       " None,\n",
       " None,\n",
       " None,\n",
       " None,\n",
       " None,\n",
       " None,\n",
       " None,\n",
       " None,\n",
       " None,\n",
       " None,\n",
       " None,\n",
       " None,\n",
       " None,\n",
       " None,\n",
       " None,\n",
       " None,\n",
       " None,\n",
       " None,\n",
       " None,\n",
       " None,\n",
       " None,\n",
       " None,\n",
       " None,\n",
       " None,\n",
       " None,\n",
       " None,\n",
       " None,\n",
       " None]"
      ]
     },
     "execution_count": 7,
     "metadata": {},
     "output_type": "execute_result"
    }
   ],
   "source": [
    "[extract_frames_from_video(vid_path, save_path, FPS=2) for vid_path in videos]"
   ]
  },
  {
   "cell_type": "markdown",
   "metadata": {},
   "source": [
    "### Test set"
   ]
  },
  {
   "cell_type": "code",
   "execution_count": 3,
   "metadata": {
    "ExecuteTime": {
     "end_time": "2020-03-30T03:18:26.319551Z",
     "start_time": "2020-03-30T03:17:31.442410Z"
    }
   },
   "outputs": [],
   "source": [
    "extract_frames_from_video('data/tik_tok/videos/d041b249864b3b660596e71f40f457c9.mp4', \n",
    "                          'data/tik_tok/images/test/', FPS=30)"
   ]
  },
  {
   "cell_type": "code",
   "execution_count": null,
   "metadata": {},
   "outputs": [],
   "source": []
  }
 ],
 "metadata": {
  "kernelspec": {
   "display_name": "Python 3.6.10 64-bit ('tf_obj': conda)",
   "language": "python",
   "name": "python361064bittfobjconda3497c33601fe438a97b2a34d91f48b5e"
  },
  "language_info": {
   "codemirror_mode": {
    "name": "ipython",
    "version": 3
   },
   "file_extension": ".py",
   "mimetype": "text/x-python",
   "name": "python",
   "nbconvert_exporter": "python",
   "pygments_lexer": "ipython3",
   "version": "3.6.10"
  }
 },
 "nbformat": 4,
 "nbformat_minor": 2
}
