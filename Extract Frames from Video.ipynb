{
 "cells": [
  {
   "cell_type": "code",
   "execution_count": 1,
   "metadata": {
    "ExecuteTime": {
     "end_time": "2020-03-29T21:07:08.789803Z",
     "start_time": "2020-03-29T21:07:08.597427Z"
    }
   },
   "outputs": [],
   "source": [
    "import cv2\n",
    "from pathlib import Path"
   ]
  },
  {
   "cell_type": "code",
   "execution_count": 6,
   "metadata": {
    "ExecuteTime": {
     "end_time": "2020-03-29T21:09:20.182801Z",
     "start_time": "2020-03-29T21:09:20.166892Z"
    }
   },
   "outputs": [
    {
     "data": {
      "text/plain": [
       "[PosixPath('data/tik_tok/videos/45fe3097a7a47989c1f9285ec8e4b80a.mp4'),\n",
       " PosixPath('data/tik_tok/videos/4faa14a3cbd1f08c2913f0c05fe7a436.mp4'),\n",
       " PosixPath('data/tik_tok/videos/1959493cbde365989818a766aefe7a20.mp4'),\n",
       " PosixPath('data/tik_tok/videos/6e8ec1d3421bb8c501330b0afa352f12.mp4'),\n",
       " PosixPath('data/tik_tok/videos/de9fbbe514055a82a3d13d5a21187eb0.mp4'),\n",
       " PosixPath('data/tik_tok/videos/1e75b204e652d1be67788ae5633f770e.mp4'),\n",
       " PosixPath('data/tik_tok/videos/4d05eb6fbc6944aa4b09c9db077591b2.mp4'),\n",
       " PosixPath('data/tik_tok/videos/8ee98a68d1b9d5055bc583db2b110a81.mp4'),\n",
       " PosixPath('data/tik_tok/videos/61cc6d8239f41c36f9393f41233f2db8.mp4'),\n",
       " PosixPath('data/tik_tok/videos/26267084475ef55c4eef24132995e292.mp4'),\n",
       " PosixPath('data/tik_tok/videos/10ff9533308b2c4c2081d8270779edfb.mp4'),\n",
       " PosixPath('data/tik_tok/videos/aaf8e63c6977736a31d7af017c5c29cd.mp4')]"
      ]
     },
     "execution_count": 6,
     "metadata": {},
     "output_type": "execute_result"
    }
   ],
   "source": [
    "video_dir = Path('data/tik_tok/videos/')\n",
    "videos = [f for f in video_dir.glob('*')]\n",
    "videos"
   ]
  },
  {
   "cell_type": "code",
   "execution_count": 7,
   "metadata": {
    "ExecuteTime": {
     "end_time": "2020-03-29T21:09:23.386994Z",
     "start_time": "2020-03-29T21:09:23.374248Z"
    }
   },
   "outputs": [],
   "source": [
    "save_path = Path('data/tik_tok/images/')"
   ]
  },
  {
   "cell_type": "code",
   "execution_count": 3,
   "metadata": {
    "ExecuteTime": {
     "end_time": "2020-03-29T21:07:09.442376Z",
     "start_time": "2020-03-29T21:07:09.425965Z"
    }
   },
   "outputs": [],
   "source": [
    "def extract_frames_from_video(vid_path, save_path, FPS=30, prefix=None, img_fmt='jpg'):\n",
    "    vid_path = Path(vid_path) if type(vid_path) == str else vid_path\n",
    "    save_path = Path(save_path) if type(save_path) == str else save_path\n",
    "    prefix = vid_path.stem if prefix == None else prefix\n",
    "\n",
    "    if FPS > 1000:\n",
    "        raise ValueError('FPS is greater than 1000. Not supported.')\n",
    "\n",
    "    time_per_frame = 1000//FPS\n",
    "\n",
    "    cap = cv2.VideoCapture(str(vid_path))\n",
    "    count = 0\n",
    "    while True:\n",
    "        cap.set(cv2.CAP_PROP_POS_MSEC,(count*time_per_frame))\n",
    "        ret, frame = cap.read()\n",
    "        if ret == False:\n",
    "            break\n",
    "        cv2.imwrite(str(save_path / f'{prefix}_{count}.{img_fmt}'), frame)\n",
    "        count += 1"
   ]
  },
  {
   "cell_type": "code",
   "execution_count": 10,
   "metadata": {
    "ExecuteTime": {
     "end_time": "2020-03-29T21:23:11.161029Z",
     "start_time": "2020-03-29T21:22:44.679157Z"
    }
   },
   "outputs": [
    {
     "data": {
      "text/plain": [
       "[None, None, None, None, None, None, None, None, None, None, None, None]"
      ]
     },
     "execution_count": 10,
     "metadata": {},
     "output_type": "execute_result"
    }
   ],
   "source": [
    "[extract_frames_from_video(vid_path, save_path, FPS=1) for vid_path in videos]"
   ]
  },
  {
   "cell_type": "code",
   "execution_count": null,
   "metadata": {},
   "outputs": [],
   "source": []
  },
  {
   "cell_type": "code",
   "execution_count": null,
   "metadata": {},
   "outputs": [],
   "source": []
  }
 ],
 "metadata": {
  "kernelspec": {
   "display_name": "Python 3.7.3 64-bit",
   "language": "python",
   "name": "python37364bitf2931828d74f4a6fb0142f1b88250f27"
  },
  "language_info": {
   "codemirror_mode": {
    "name": "ipython",
    "version": 3
   },
   "file_extension": ".py",
   "mimetype": "text/x-python",
   "name": "python",
   "nbconvert_exporter": "python",
   "pygments_lexer": "ipython3",
   "version": "3.7.3"
  }
 },
 "nbformat": 4,
 "nbformat_minor": 2
}
