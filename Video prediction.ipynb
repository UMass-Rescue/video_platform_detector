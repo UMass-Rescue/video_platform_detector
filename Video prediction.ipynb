{
 "cells": [
  {
   "cell_type": "code",
   "execution_count": 2,
   "metadata": {
    "ExecuteTime": {
     "end_time": "2020-03-30T03:37:09.650231Z",
     "start_time": "2020-03-30T03:37:09.642887Z"
    }
   },
   "outputs": [],
   "source": [
    "from tf_object_detection_util.inference_api import TFInference\n",
    "from pathlib import Path\n",
    "from tf_object_detection_util.inference_api.util import cv2_imread_rgb\n",
    "import matplotlib.pyplot as plt\n",
    "import cv2\n",
    "%matplotlib inline"
   ]
  },
  {
   "cell_type": "code",
   "execution_count": 3,
   "metadata": {
    "ExecuteTime": {
     "end_time": "2020-03-30T03:37:18.913345Z",
     "start_time": "2020-03-30T03:37:18.908798Z"
    }
   },
   "outputs": [],
   "source": [
    "def load_tik_tok_detector():\n",
    "    MODEL_NAME = Path('tf_test_out/inference_graph/')\n",
    "    PATH_TO_FROZEN_GRAPH = MODEL_NAME / 'frozen_inference_graph.pb'\n",
    "    PATH_TO_LABELS = MODEL_NAME / 'obj_det.pbtxt'\n",
    "\n",
    "    inf = TFInference(PATH_TO_FROZEN_GRAPH, PATH_TO_LABELS)\n",
    "    return inf"
   ]
  },
  {
   "cell_type": "code",
   "execution_count": 4,
   "metadata": {
    "ExecuteTime": {
     "end_time": "2020-03-30T03:37:25.354088Z",
     "start_time": "2020-03-30T03:37:24.462400Z"
    }
   },
   "outputs": [],
   "source": [
    "inf = load_tik_tok_detector()"
   ]
  },
  {
   "cell_type": "code",
   "execution_count": 11,
   "metadata": {
    "ExecuteTime": {
     "end_time": "2020-03-30T03:46:16.422492Z",
     "start_time": "2020-03-30T03:46:16.417709Z"
    }
   },
   "outputs": [],
   "source": [
    "video_path = '/home/prasannals/Downloads/96f3e66628481cf4dd5c474157befbca.mp4'"
   ]
  },
  {
   "cell_type": "code",
   "execution_count": 12,
   "metadata": {
    "ExecuteTime": {
     "end_time": "2020-03-30T03:46:17.866224Z",
     "start_time": "2020-03-30T03:46:17.851718Z"
    }
   },
   "outputs": [],
   "source": [
    "cap = cv2.VideoCapture(video_path)"
   ]
  },
  {
   "cell_type": "code",
   "execution_count": 13,
   "metadata": {
    "ExecuteTime": {
     "end_time": "2020-03-30T03:47:17.161385Z",
     "start_time": "2020-03-30T03:46:58.233140Z"
    }
   },
   "outputs": [],
   "source": [
    "while True:\n",
    "    ret, frame = cap.read()\n",
    "    if not ret:\n",
    "        break\n",
    "    cv2.imwrite('test.jpg', frame)\n",
    "    res, res_img = inf.predict(frame, visualize=True)\n",
    "    res_img = cv2.resize(res_img, (360, 640))\n",
    "    cv2.imshow('Tik Tok Logo Detection', res_img)\n",
    "    cv2.waitKey(10)\n",
    "\n",
    "cv2.destroyAllWindows()"
   ]
  },
  {
   "cell_type": "code",
   "execution_count": null,
   "metadata": {},
   "outputs": [],
   "source": []
  }
 ],
 "metadata": {
  "kernelspec": {
   "display_name": "Python 3.6.10 64-bit ('tf_obj': conda)",
   "language": "python",
   "name": "python361064bittfobjconda3497c33601fe438a97b2a34d91f48b5e"
  },
  "language_info": {
   "codemirror_mode": {
    "name": "ipython",
    "version": 3
   },
   "file_extension": ".py",
   "mimetype": "text/x-python",
   "name": "python",
   "nbconvert_exporter": "python",
   "pygments_lexer": "ipython3",
   "version": "3.6.10"
  }
 },
 "nbformat": 4,
 "nbformat_minor": 4
}
