{
 "cells": [
  {
   "cell_type": "code",
   "execution_count": 1,
   "metadata": {
    "ExecuteTime": {
     "end_time": "2020-03-29T22:37:45.301067Z",
     "start_time": "2020-03-29T22:37:45.119096Z"
    }
   },
   "outputs": [],
   "source": [
    "import cv2\n",
    "from pathlib import Path\n",
    "import os"
   ]
  },
  {
   "cell_type": "code",
   "execution_count": 2,
   "metadata": {
    "ExecuteTime": {
     "end_time": "2020-03-29T22:37:45.400599Z",
     "start_time": "2020-03-29T22:37:45.398366Z"
    }
   },
   "outputs": [],
   "source": [
    "images_dir = Path('data/tik_tok/images/')"
   ]
  },
  {
   "cell_type": "code",
   "execution_count": 3,
   "metadata": {
    "ExecuteTime": {
     "end_time": "2020-03-29T22:37:45.631723Z",
     "start_time": "2020-03-29T22:37:45.617633Z"
    }
   },
   "outputs": [],
   "source": [
    "images = [f for f in images_dir.glob('*/*')]"
   ]
  },
  {
   "cell_type": "code",
   "execution_count": 4,
   "metadata": {
    "ExecuteTime": {
     "end_time": "2020-03-29T22:37:48.332371Z",
     "start_time": "2020-03-29T22:37:45.899872Z"
    }
   },
   "outputs": [],
   "source": [
    "sizes = [cv2.imread(str(im)).shape for im in images]"
   ]
  },
  {
   "cell_type": "code",
   "execution_count": 5,
   "metadata": {
    "ExecuteTime": {
     "end_time": "2020-03-29T22:37:48.342828Z",
     "start_time": "2020-03-29T22:37:48.334473Z"
    }
   },
   "outputs": [
    {
     "data": {
      "text/plain": [
       "{(640, 360, 3),\n",
       " (780, 540, 3),\n",
       " (960, 540, 3),\n",
       " (1024, 576, 3),\n",
       " (1080, 608, 3),\n",
       " (1280, 720, 3)}"
      ]
     },
     "execution_count": 5,
     "metadata": {},
     "output_type": "execute_result"
    }
   ],
   "source": [
    "unique_sizes = set(sizes)\n",
    "unique_sizes"
   ]
  },
  {
   "cell_type": "code",
   "execution_count": 6,
   "metadata": {
    "ExecuteTime": {
     "end_time": "2020-03-29T22:37:48.353156Z",
     "start_time": "2020-03-29T22:37:48.344901Z"
    }
   },
   "outputs": [
    {
     "data": {
      "text/plain": [
       "['1.78', '1.44', '1.78', '1.78', '1.78', '1.78']"
      ]
     },
     "execution_count": 6,
     "metadata": {},
     "output_type": "execute_result"
    }
   ],
   "source": [
    "['{0:.2f}'.format(round(u[0]/u[1], 2)) for u in unique_sizes ]"
   ]
  },
  {
   "cell_type": "code",
   "execution_count": 7,
   "metadata": {
    "ExecuteTime": {
     "end_time": "2020-03-29T22:37:48.640417Z",
     "start_time": "2020-03-29T22:37:48.633029Z"
    }
   },
   "outputs": [],
   "source": [
    "def aspect_ratio(shape):\n",
    "    return round(shape[0]/shape[1], 2)\n",
    "\n",
    "def two_decimal_format(f):\n",
    "    return '{0:.2f}'.format(f)"
   ]
  },
  {
   "cell_type": "code",
   "execution_count": 8,
   "metadata": {
    "ExecuteTime": {
     "end_time": "2020-03-29T22:37:53.687917Z",
     "start_time": "2020-03-29T22:37:51.234244Z"
    }
   },
   "outputs": [
    {
     "name": "stdout",
     "output_type": "stream",
     "text": [
      "Removing file - data/tik_tok/images/top_left/26267084475ef55c4eef24132995e292_5.jpg whose shape is (780, 540, 3)\n",
      "Removing file - data/tik_tok/images/top_left/26267084475ef55c4eef24132995e292_3.jpg whose shape is (780, 540, 3)\n",
      "Removing file - data/tik_tok/images/top_left/26267084475ef55c4eef24132995e292_0.jpg whose shape is (780, 540, 3)\n",
      "Removing file - data/tik_tok/images/top_left/26267084475ef55c4eef24132995e292_1.jpg whose shape is (780, 540, 3)\n",
      "Removing file - data/tik_tok/images/top_left/26267084475ef55c4eef24132995e292_2.jpg whose shape is (780, 540, 3)\n",
      "Removing file - data/tik_tok/images/top_left/26267084475ef55c4eef24132995e292_4.jpg whose shape is (780, 540, 3)\n",
      "Removing file - data/tik_tok/images/bottom_right/26267084475ef55c4eef24132995e292_6.jpg whose shape is (780, 540, 3)\n",
      "Removing file - data/tik_tok/images/bottom_right/26267084475ef55c4eef24132995e292_8.jpg whose shape is (780, 540, 3)\n",
      "Removing file - data/tik_tok/images/bottom_right/26267084475ef55c4eef24132995e292_7.jpg whose shape is (780, 540, 3)\n",
      "Removing file - data/tik_tok/images/centre/26267084475ef55c4eef24132995e292_9.jpg whose shape is (780, 540, 3)\n",
      "Removing file - data/tik_tok/images/centre/26267084475ef55c4eef24132995e292_10.jpg whose shape is (780, 540, 3)\n",
      "Removing file - data/tik_tok/images/centre/26267084475ef55c4eef24132995e292_11.jpg whose shape is (780, 540, 3)\n"
     ]
    }
   ],
   "source": [
    "for im in images:\n",
    "    img = cv2.imread(str(im))\n",
    "    if two_decimal_format(aspect_ratio(img.shape)) != '1.78':\n",
    "        print(f'Removing file - {im} whose shape is {img.shape}')\n",
    "        os.remove(im)"
   ]
  },
  {
   "cell_type": "code",
   "execution_count": 10,
   "metadata": {
    "ExecuteTime": {
     "end_time": "2020-03-29T22:38:36.936378Z",
     "start_time": "2020-03-29T22:38:36.927387Z"
    }
   },
   "outputs": [],
   "source": [
    "images_dir = Path('data/tik_tok/images/')\n",
    "images = [f for f in images_dir.glob('*/*')]"
   ]
  },
  {
   "cell_type": "code",
   "execution_count": 11,
   "metadata": {
    "ExecuteTime": {
     "end_time": "2020-03-29T22:38:42.789046Z",
     "start_time": "2020-03-29T22:38:38.077540Z"
    }
   },
   "outputs": [],
   "source": [
    "for im_path in images:\n",
    "    im = cv2.imread(str(im_path))\n",
    "    im = cv2.resize(im, (360, 640))\n",
    "    cv2.imwrite(str(im_path), im)"
   ]
  },
  {
   "cell_type": "code",
   "execution_count": 12,
   "metadata": {
    "ExecuteTime": {
     "end_time": "2020-03-29T22:38:44.445914Z",
     "start_time": "2020-03-29T22:38:43.661306Z"
    }
   },
   "outputs": [
    {
     "data": {
      "text/plain": [
       "{(640, 360, 3)}"
      ]
     },
     "execution_count": 12,
     "metadata": {},
     "output_type": "execute_result"
    }
   ],
   "source": [
    "images_dir = Path('data/tik_tok/images/')\n",
    "images = [f for f in images_dir.glob('*/*')]\n",
    "sizes = [cv2.imread(str(im)).shape for im in images]\n",
    "unique_sizes = set(sizes)\n",
    "unique_sizes"
   ]
  },
  {
   "cell_type": "code",
   "execution_count": null,
   "metadata": {},
   "outputs": [],
   "source": []
  }
 ],
 "metadata": {
  "kernelspec": {
   "display_name": "Python 3",
   "language": "python",
   "name": "python3"
  },
  "language_info": {
   "codemirror_mode": {
    "name": "ipython",
    "version": 3
   },
   "file_extension": ".py",
   "mimetype": "text/x-python",
   "name": "python",
   "nbconvert_exporter": "python",
   "pygments_lexer": "ipython3",
   "version": "3.7.3"
  }
 },
 "nbformat": 4,
 "nbformat_minor": 2
}
