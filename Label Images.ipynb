{
 "cells": [
  {
   "cell_type": "code",
   "execution_count": 1,
   "metadata": {
    "ExecuteTime": {
     "end_time": "2020-03-30T01:13:12.358382Z",
     "start_time": "2020-03-30T01:13:12.354365Z"
    }
   },
   "outputs": [],
   "source": [
    "from pathlib import Path\n",
    "import os"
   ]
  },
  {
   "cell_type": "code",
   "execution_count": 2,
   "metadata": {
    "ExecuteTime": {
     "end_time": "2020-03-30T01:13:12.849822Z",
     "start_time": "2020-03-30T01:13:12.840425Z"
    }
   },
   "outputs": [],
   "source": [
    "def is_image(path, fmts=['jpg', 'png', 'jpeg', 'tif']):\n",
    "    return path.suffix[1:].lower() in fmts\n",
    "\n",
    "def label_folder_using_template(path, template):\n",
    "    with open(template) as f:\n",
    "        template = f.read()\n",
    "    \n",
    "    path = Path(path) if type(path) == str else path\n",
    "    images = list(filter(is_image, [f for f in path.glob('*')]))\n",
    "    for f in images:\n",
    "        out_xml = f.parent / (f.stem + '.xml')\n",
    "        with open(out_xml, 'w') as out:\n",
    "            out.write(template.format(f.parts[-1], f.absolute(), f.parts[-2]))\n"
   ]
  },
  {
   "cell_type": "code",
   "execution_count": 3,
   "metadata": {
    "ExecuteTime": {
     "end_time": "2020-03-30T01:13:13.300352Z",
     "start_time": "2020-03-30T01:13:13.296557Z"
    }
   },
   "outputs": [],
   "source": [
    "path = Path('data/tik_tok/images/new_expanded_dataset/')"
   ]
  },
  {
   "cell_type": "code",
   "execution_count": 4,
   "metadata": {
    "ExecuteTime": {
     "end_time": "2020-03-30T01:13:13.790081Z",
     "start_time": "2020-03-30T01:13:13.753352Z"
    }
   },
   "outputs": [],
   "source": [
    "label_folder_using_template(path / 'top_left/', path / 'top_left_template.xml')"
   ]
  },
  {
   "cell_type": "code",
   "execution_count": 5,
   "metadata": {
    "ExecuteTime": {
     "end_time": "2020-03-30T01:13:14.578983Z",
     "start_time": "2020-03-30T01:13:14.489143Z"
    }
   },
   "outputs": [],
   "source": [
    "label_folder_using_template(path / 'bottom_right/', path / 'bottom_right_template.xml')"
   ]
  },
  {
   "cell_type": "code",
   "execution_count": 6,
   "metadata": {
    "ExecuteTime": {
     "end_time": "2020-03-30T01:13:15.033026Z",
     "start_time": "2020-03-30T01:13:15.017651Z"
    },
    "scrolled": true
   },
   "outputs": [],
   "source": [
    "label_folder_using_template(path/ 'centre/', path / 'centre_template.xml')"
   ]
  },
  {
   "cell_type": "code",
   "execution_count": null,
   "metadata": {},
   "outputs": [],
   "source": []
  }
 ],
 "metadata": {
  "kernelspec": {
   "display_name": "Python 3.6.10 64-bit ('tf_obj': conda)",
   "language": "python",
   "name": "python361064bittfobjconda3497c33601fe438a97b2a34d91f48b5e"
  },
  "language_info": {
   "codemirror_mode": {
    "name": "ipython",
    "version": 3
   },
   "file_extension": ".py",
   "mimetype": "text/x-python",
   "name": "python",
   "nbconvert_exporter": "python",
   "pygments_lexer": "ipython3",
   "version": "3.6.10"
  }
 },
 "nbformat": 4,
 "nbformat_minor": 4
}
